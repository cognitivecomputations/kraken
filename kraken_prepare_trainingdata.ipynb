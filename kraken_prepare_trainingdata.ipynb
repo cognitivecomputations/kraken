{
 "cells": [
  {
   "cell_type": "code",
   "execution_count": null,
   "id": "f861a03b-c0fc-49bf-a926-6e4993a5a59b",
   "metadata": {},
   "outputs": [],
   "source": [
    "!pip install pandas pyarrow datasets"
   ]
  },
  {
   "cell_type": "code",
   "execution_count": null,
   "id": "f8af8504-f01e-4b42-8f4c-81acc0cc058b",
   "metadata": {},
   "outputs": [],
   "source": [
    "import pandas as pd\n",
    "from datasets import load_dataset\n",
    "\n",
    "# Loading dataset\n",
    "dataset = load_dataset(\"b-mc2/sql-create-context\")\n",
    "# Function to extract the data and define your label number\n",
    "def process_example(example):\n",
    "    # Format your training input by your choice\n",
    "    input_text = f\"{example['question']}\\n\\\\n{example['context']}\"\n",
    "    # Set your label\n",
    "    output = 0 # 1 2 3 4 .. n depending on your amount of experts\n",
    "    return {\"text\": input_text, \"label\": output}\n",
    "\n",
    "# Applying the function to the entire data set\n",
    "processed_dataset = dataset.map(process_example, remove_columns=dataset[\"train\"].column_names)\n",
    "\n",
    "# Selecting the samples\n",
    "processed_dataset = processed_dataset[\"train\"].select(range(4000,6000))\n",
    "\n",
    "# Convert to a DataFrame for easy storage\n",
    "df = pd.DataFrame(processed_dataset)\n",
    "\n",
    "# Save the DataFrame as a Parquet file\n",
    "df.to_parquet(\"router_expert_no_1.parquet\", index=False)"
   ]
  }
 ],
 "metadata": {
  "kernelspec": {
   "display_name": "Python 3 (ipykernel)",
   "language": "python",
   "name": "python3"
  },
  "language_info": {
   "codemirror_mode": {
    "name": "ipython",
    "version": 3
   },
   "file_extension": ".py",
   "mimetype": "text/x-python",
   "name": "python",
   "nbconvert_exporter": "python",
   "pygments_lexer": "ipython3",
   "version": "3.10.12"
  }
 },
 "nbformat": 4,
 "nbformat_minor": 5
}
